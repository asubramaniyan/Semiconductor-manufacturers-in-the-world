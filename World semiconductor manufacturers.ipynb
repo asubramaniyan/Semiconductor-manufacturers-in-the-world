{
 "cells": [
  {
   "cell_type": "code",
   "execution_count": 1,
   "metadata": {},
   "outputs": [],
   "source": [
    "#Interactive visualization of semiconductor manufacturing plants in the world\n",
    "\n",
    "import requests\n",
    "import pandas as pd\n",
    "import numpy as np\n",
    "from bs4 import BeautifulSoup\n",
    "from geopy.geocoders import Bing\n",
    "\n",
    "\n",
    "####### Functions\n",
    "\n",
    "# Function to manipulate text\n",
    "def text_manipulation(text):\n",
    "    \"\"\"Returns the provided text with references, white spaces and new lines removed\"\"\"\n",
    "    text = text.split('[')[0]\n",
    "    text = text.strip()    \n",
    "    return text\n",
    "\n",
    "# Function to download contents of a webpage via BeautifulSoup and requests\n",
    "def download_webpage(url):\n",
    "    \"\"\"Returns HTML parsed contents of a webpage\"\"\"\n",
    "    soup = BeautifulSoup(requests.get(url).content, 'html.parser')\n",
    "    return soup\n",
    "\n",
    "# Function to append \"https://en.wikipedia.org\" to short wiki page\n",
    "def weblink_manipulation(link):\n",
    "    \"\"\"Returns full webpage wikipedia address if link is a wiki page\"\"\"\n",
    "    if 'http' not in link:\n",
    "        return (\"https://en.wikipedia.org\" + link)\n",
    "    else:\n",
    "        return link\n",
    "    \n",
    "# Function to get geographical co-ordinates for semiconductor plant locations from geopy library\n",
    "def geo_coordinates(semi_plant_location):\n",
    "    \"\"\"Returns latitude and longitude of the provided semiconductor plant location. Returns none if co-ordinates are not found\"\"\"\n",
    "    geolocator = Bing(api_key= 'ENTER YOUR API KEY HERE') #### <----- Enter bing maps api key\n",
    "    try:\n",
    "        location = geolocator.geocode(semi_plant_location, timeout = 10)\n",
    "        if location!= None: return [location.latitude, location.longitude]\n",
    "    except GeocoderTimedOut: #To avoid service timeout error breaking the execution\n",
    "        pass\n",
    "\n",
    "# Function to get geographical border co-ordinates of the world from webscraped JSON file\n",
    "#### Below code adapted from https://teamtreehouse.com/library/plotting-the-world with minor modification\n",
    "def world_border_coordinates(features):\n",
    "    depth = lambda L: isinstance(L, list) and max(map(depth, L))+1\n",
    "    country_id = []\n",
    "    longitudes = []\n",
    "    latitudes = []\n",
    "    \n",
    "    for feature in features:#json_data['features']:\n",
    "        coordinates = feature['geometry']['coordinates']\n",
    "        number_dimensions = depth(coordinates)\n",
    "        # one border\n",
    "        if number_dimensions == 3:\n",
    "            country_id.append(feature['properties']['name'])\n",
    "            points = np.array(coordinates[0], 'f')\n",
    "            longitudes.append(points[:, 0])\n",
    "            latitudes.append(points[:, 1])\n",
    "        # several borders\n",
    "        else:\n",
    "            for shape in coordinates:\n",
    "                country_id.append(feature['properties']['name'])\n",
    "                points = np.array(shape[0], 'f')\n",
    "                longitudes.append(points[:, 0])\n",
    "                latitudes.append(points[:, 1])\n",
    "    return [country_id, longitudes, latitudes]\n",
    "#### Above code adapted from https://teamtreehouse.com/library/plotting-the-world with minor modification"
   ]
  },
  {
   "cell_type": "code",
   "execution_count": 2,
   "metadata": {},
   "outputs": [],
   "source": [
    "################ Data Wrangling ###############   \n",
    "\n",
    "#Download webpage\n",
    "page_cont = download_webpage(\"https://en.wikipedia.org/wiki/List_of_semiconductor_fabrication_plants\")\n"
   ]
  },
  {
   "cell_type": "code",
   "execution_count": 3,
   "metadata": {},
   "outputs": [],
   "source": [
    "######### Getting contents from webscraped beautifulsoup object ###########\n",
    "\n",
    "# Get column names for dataframe\n",
    "col_names = [\"webpage\"]\n",
    "for i in page_cont.table.select('tr th'):\n",
    "    col_names.append(i.text)\n",
    "\n"
   ]
  },
  {
   "cell_type": "code",
   "execution_count": 4,
   "metadata": {},
   "outputs": [],
   "source": [
    "# Get contents of the webscraped table into a dictionary\n",
    "test_dict = {d_key: [] for d_key in range(0,len(page_cont.table.find_all('tr')[1:]))}\n",
    "\n",
    "for index, row in enumerate(page_cont.table.find_all('tr')[1:]):\n",
    "    try:\n",
    "        test_dict[index].append(weblink_manipulation(row.find('td').find('a', recursive = False)['href']))\n",
    "    except TypeError:\n",
    "        test_dict[index].append(\"NA\")\n",
    "    for cell in row.find_all('td'):\n",
    "        test_dict[index].append(text_manipulation(cell.text)) #copy all the contents of table into dictionary"
   ]
  },
  {
   "cell_type": "code",
   "execution_count": 5,
   "metadata": {},
   "outputs": [],
   "source": [
    "# Create dataframe from dictionary \n",
    "df = pd.DataFrame.from_dict(test_dict, orient='index')\n",
    "df.columns = col_names\n",
    "df.fillna('', inplace = True) #Fill NA with empty string for better analysis"
   ]
  },
  {
   "cell_type": "code",
   "execution_count": 6,
   "metadata": {},
   "outputs": [
    {
     "ename": "TypeError",
     "evalue": "__init__() missing 1 required positional argument: 'api_key'",
     "output_type": "error",
     "traceback": [
      "\u001b[0;31m---------------------------------------------------------------------------\u001b[0m",
      "\u001b[0;31mTypeError\u001b[0m                                 Traceback (most recent call last)",
      "\u001b[0;32m<ipython-input-6-8daaf8fb20fc>\u001b[0m in \u001b[0;36m<module>\u001b[0;34m()\u001b[0m\n\u001b[1;32m      4\u001b[0m \u001b[0;31m#Generator expression, combining for and if loop\u001b[0m\u001b[0;34m\u001b[0m\u001b[0;34m\u001b[0m\u001b[0m\n\u001b[1;32m      5\u001b[0m \u001b[0;32mfor\u001b[0m \u001b[0mx\u001b[0m \u001b[0;32min\u001b[0m \u001b[0mgen\u001b[0m\u001b[0;34m:\u001b[0m\u001b[0;34m\u001b[0m\u001b[0m\n\u001b[0;32m----> 6\u001b[0;31m     \u001b[0mco_ord\u001b[0m\u001b[0;34m[\u001b[0m\u001b[0mx\u001b[0m\u001b[0;34m]\u001b[0m \u001b[0;34m=\u001b[0m \u001b[0mgeo_coordinates\u001b[0m\u001b[0;34m(\u001b[0m\u001b[0mx\u001b[0m\u001b[0;34m)\u001b[0m\u001b[0;34m\u001b[0m\u001b[0m\n\u001b[0m",
      "\u001b[0;32m<ipython-input-1-6eedab1b2c5b>\u001b[0m in \u001b[0;36mgeo_coordinates\u001b[0;34m(semi_plant_location)\u001b[0m\n\u001b[1;32m     34\u001b[0m \u001b[0;32mdef\u001b[0m \u001b[0mgeo_coordinates\u001b[0m\u001b[0;34m(\u001b[0m\u001b[0msemi_plant_location\u001b[0m\u001b[0;34m)\u001b[0m\u001b[0;34m:\u001b[0m\u001b[0;34m\u001b[0m\u001b[0m\n\u001b[1;32m     35\u001b[0m     \u001b[0;34m\"\"\"Returns latitude and longitude of the provided semiconductor plant location. Returns none if co-ordinates are not found\"\"\"\u001b[0m\u001b[0;34m\u001b[0m\u001b[0m\n\u001b[0;32m---> 36\u001b[0;31m     \u001b[0mgeolocator\u001b[0m \u001b[0;34m=\u001b[0m \u001b[0mBing\u001b[0m\u001b[0;34m(\u001b[0m\u001b[0;34m)\u001b[0m\u001b[0;31m#(api_key=('AhitH8KYYX0VCd_MLdgnRLVcNviFqFY24j_Xj7weAwHIMNROvY3bcoiJlBLT3RJL'))\u001b[0m\u001b[0;34m\u001b[0m\u001b[0m\n\u001b[0m\u001b[1;32m     37\u001b[0m     \u001b[0;32mtry\u001b[0m\u001b[0;34m:\u001b[0m\u001b[0;34m\u001b[0m\u001b[0m\n\u001b[1;32m     38\u001b[0m         \u001b[0mlocation\u001b[0m \u001b[0;34m=\u001b[0m \u001b[0mgeolocator\u001b[0m\u001b[0;34m.\u001b[0m\u001b[0mgeocode\u001b[0m\u001b[0;34m(\u001b[0m\u001b[0msemi_plant_location\u001b[0m\u001b[0;34m,\u001b[0m \u001b[0mtimeout\u001b[0m \u001b[0;34m=\u001b[0m \u001b[0;36m10\u001b[0m\u001b[0;34m)\u001b[0m\u001b[0;34m\u001b[0m\u001b[0m\n",
      "\u001b[0;31mTypeError\u001b[0m: __init__() missing 1 required positional argument: 'api_key'"
     ]
    }
   ],
   "source": [
    "# Get geo_coordinates of plant location from geopy into a dictionary\n",
    "co_ord = {} #library to store co-ordinates of plant location\n",
    "gen = (plant_loc for plant_loc in df['Plant location'].unique() if plant_loc) \n",
    "#Generator expression, combining for and if loop\n",
    "for x in gen:\n",
    "    co_ord[x] = geo_coordinates(x) "
   ]
  },
  {
   "cell_type": "code",
   "execution_count": 103,
   "metadata": {},
   "outputs": [],
   "source": [
    "# create new columns for co-ordinates in dataframe and populate dictionary contents\n",
    "df = df.assign(Latitude = np.NAN, Longitude = np.NAN)\n",
    "\n",
    "for key in co_ord:\n",
    "    if key and co_ord[key] != None:\n",
    "        df.loc[df.index[df['Plant location'] == key], 'Latitude'] = co_ord[key][0]\n",
    "        df.loc[df.index[df['Plant location'] == key], 'Longitude'] = co_ord[key][1]"
   ]
  },
  {
   "cell_type": "code",
   "execution_count": 104,
   "metadata": {},
   "outputs": [],
   "source": [
    "# Download world border coordinates JSON file\n",
    "\n",
    "import requests\n",
    "countries = requests.get('https://rawgit.com/johan/world.geo.json/master/countries.geo.json').json()\n",
    "country_coord = world_border_coordinates(countries['features'])"
   ]
  },
  {
   "cell_type": "code",
   "execution_count": 105,
   "metadata": {},
   "outputs": [],
   "source": [
    "# Data visualization via bokeh\n",
    "\n",
    "from bokeh.plotting import figure, output_file, show\n",
    "from bokeh.models import Range1d\n",
    "from bokeh.models import HoverTool, ColumnDataSource, TapTool\n",
    "from bokeh.layouts import row\n",
    "from bokeh.models.widgets import TextInput\n",
    "\n",
    "output_file(\"world-semi-manufacture-companies.html\")\n",
    "\n",
    "p = figure(width = 1200, height=650, title='Semiconductor fabrication companies in the world', background_fill_color = '#9ecae1')\n",
    "\n",
    "#Displaying world map and setting the range of longitude and latitude\n",
    "for i in range(len(country_coord[0])):\n",
    "    p.patch(x = country_coord[1][i], y = country_coord[2][i], line_color = 'grey')#, aplha = 0.6)\n",
    "\n",
    "p.x_range = Range1d(start = -180, end = 180)\n",
    "p.y_range = Range1d(start = -70, end = 85)\n",
    "\n",
    "# Assigning source for plotting\n",
    "\n",
    "source = ColumnDataSource(data={'Longitude' : df['Longitude'], 'Latitude' : df['Latitude'], 'Company': df['Company'],\n",
    "'Plant name': df['Plant name']})\n",
    "\n",
    "p.circle(x = 'Longitude', y='Latitude', fill_color='#feb24c', size=10, source = source)\n",
    "p.add_tools(HoverTool(tooltips=[('Company','@Company'),('Plant name', '@{Plant name}')], mode='mouse'))\n",
    "\n",
    "show(p)\n",
    "\n"
   ]
  }
 ],
 "metadata": {
  "kernelspec": {
   "display_name": "Python 3",
   "language": "python",
   "name": "python3"
  },
  "language_info": {
   "codemirror_mode": {
    "name": "ipython",
    "version": 3
   },
   "file_extension": ".py",
   "mimetype": "text/x-python",
   "name": "python",
   "nbconvert_exporter": "python",
   "pygments_lexer": "ipython3",
   "version": "3.6.4"
  }
 },
 "nbformat": 4,
 "nbformat_minor": 2
}
